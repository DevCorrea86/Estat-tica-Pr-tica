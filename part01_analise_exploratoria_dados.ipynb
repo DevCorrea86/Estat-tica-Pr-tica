{
  "cells": [
    {
      "cell_type": "markdown",
      "metadata": {
        "id": "view-in-github",
        "colab_type": "text"
      },
      "source": [
        "<a href=\"https://colab.research.google.com/github/DevCorrea86/Estatistica-Pratica/blob/main/part01_analise_exploratoria_dados.ipynb\" target=\"_parent\"><img src=\"https://colab.research.google.com/assets/colab-badge.svg\" alt=\"Open In Colab\"/></a>"
      ]
    },
    {
      "cell_type": "markdown",
      "id": "d8a990f0",
      "metadata": {
        "id": "d8a990f0"
      },
      "source": [
        "# Capitulo 1 - Análise Exploratória de Dados"
      ]
    },
    {
      "cell_type": "markdown",
      "id": "9fe1477e",
      "metadata": {
        "id": "9fe1477e"
      },
      "source": [
        "## Elementos de Dados Estruturados\n",
        "\n",
        "**Contínuos** - Dados que podem assumir qualquer valor em um intervalo\n",
        "\n",
        "**Discretos** - Dados que podem assumir apenas valores inteiros, como contagens.\n",
        "\n",
        "**Categóricos** - Dados que podem assumir apenas um conjunto específico de valores representando um conjunto de possíveis categorias.\n",
        "\n",
        "**Binários** - Um caso especial de dados categóricos com apenas duas categorias de valores (0/1, True/False)\n",
        "\n",
        "**Ordinais** - Dados categórico que tem uma ordem explícita."
      ]
    },
    {
      "cell_type": "markdown",
      "id": "a12773d7",
      "metadata": {
        "id": "a12773d7"
      },
      "source": [
        "## Dados Retangulares\n",
        "\n",
        "**Quadro de dados** - Os dados retangulares são as estruturas básicas de dados para modelos estatísticos e aprendizado de máquina.\n",
        "\n",
        "**Características** - Um conjunto na tabela costuma ser chamada de caracteristicas.\n",
        "\n",
        "**Registros** - Uma linha na tabela costuma ser chamada de registro."
      ]
    },
    {
      "cell_type": "markdown",
      "id": "ee1ef0a9",
      "metadata": {
        "id": "ee1ef0a9"
      },
      "source": [
        "## Estimativas de Localização\n",
        "\n",
        "**Média** - Soma de todos valores dividido pelo número de valores\n",
        "\n",
        "**Média ponderada** - A soma de todos os valores, multilicada por um peso e dividida pela soma dos pesos.\n",
        "\n",
        "**Mediana** - O valor que ocupa a posição central dos dados.\n",
        "\n",
        "**Mediana ponderada** - Valor cuja posição está no centro da soma dos pesos, estando na metade da soma antes e metade depois desse dado.\n",
        "\n",
        "**Média aparada** - A média de todos os valores depois da excluso de um número fixo de valores extremos.\n",
        "\n",
        "**Robusto** - Não sensível a valores extremos\n",
        "\n",
        "**Outlier** - Valor de dados que é muito diferente da maioria dos dados."
      ]
    },
    {
      "cell_type": "code",
      "execution_count": 1,
      "id": "1d043bc4",
      "metadata": {
        "id": "1d043bc4"
      },
      "outputs": [],
      "source": [
        "import numpy as np # biblioteca cáculos numéricos\n",
        "import random as rd \n",
        "import matplotlib.pyplot as plt\n",
        "\n",
        "from random import randint # geração de numeros pseudo_aleatórios"
      ]
    },
    {
      "cell_type": "markdown",
      "source": [
        "Criar um array com 5000 elementos do tipo `int`, para mostrar melhor os conceitos abordados. Atribuir a lista a variável `numeros`."
      ],
      "metadata": {
        "id": "bOa83bF107_w"
      },
      "id": "bOa83bF107_w"
    },
    {
      "cell_type": "code",
      "execution_count": 2,
      "id": "5c07a904",
      "metadata": {
        "colab": {
          "base_uri": "https://localhost:8080/"
        },
        "id": "5c07a904",
        "outputId": "04fda066-8586-4dbe-8cff-923455da5e45"
      },
      "outputs": [
        {
          "output_type": "stream",
          "name": "stdout",
          "text": [
            "[161  41  35 ... 251 578 137]\n"
          ]
        }
      ],
      "source": [
        "# criando uma lista com 5000 números aleatórios\n",
        "rd.seed(1986)\n",
        "\n",
        "numeros = []\n",
        "n = 0\n",
        "while n < 5000:\n",
        "    numeros.append(round(randint(1, 750)*rd.random()))\n",
        "    n += 1\n",
        "\n",
        "# transformar em array NumPy\n",
        "numeros = np.array(numeros)\n",
        "print(numeros)"
      ]
    },
    {
      "cell_type": "markdown",
      "id": "18e4f8fc",
      "metadata": {
        "id": "18e4f8fc"
      },
      "source": [
        "## Média\n",
        "\n",
        "Estimativa de localização mais básica. Definida como a soma de todos os valores, dividida pelo número de valores.\n",
        "\n",
        "> Média = $\\textbf{x}_m = \\frac{∑_{i}^{n} x_i}{n}$"
      ]
    },
    {
      "cell_type": "code",
      "execution_count": 3,
      "id": "b022766e",
      "metadata": {
        "colab": {
          "base_uri": "https://localhost:8080/"
        },
        "id": "b022766e",
        "outputId": "6fa5dad5-737b-4e2a-f9b4-ce4e5d77de77"
      },
      "outputs": [
        {
          "output_type": "stream",
          "name": "stdout",
          "text": [
            "186.5878\n",
            "186.5878\n"
          ]
        }
      ],
      "source": [
        "# média \n",
        "\n",
        "media1 = sum(numeros)/len(numeros)\n",
        "print(media1)\n",
        "\n",
        "media2 = numeros.mean() # or np.mean(numeros)\n",
        "print(media2)"
      ]
    },
    {
      "cell_type": "markdown",
      "source": [
        "## Média aparada\n",
        "\n",
        "Calcula excluindo um númerofixado de valores selecionados em cada ponta, tirando a média dos valores restantes.\n",
        "\n",
        "> Média aparada = $\\textbf{x}_m = \\frac{Σ_{i=p+1}^{n-p}x_i}{n - 2p}$"
      ],
      "metadata": {
        "id": "fmyH7jhEgVxR"
      },
      "id": "fmyH7jhEgVxR"
    },
    {
      "cell_type": "code",
      "execution_count": 8,
      "id": "95a730ed",
      "metadata": {
        "colab": {
          "base_uri": "https://localhost:8080/"
        },
        "id": "95a730ed",
        "outputId": "b588a68c-6ea9-4bae-f9f3-17966a84e879"
      },
      "outputs": [
        {
          "output_type": "stream",
          "name": "stdout",
          "text": [
            "165.26118470382406\n"
          ]
        }
      ],
      "source": [
        "# aparar a amostra 10% cada ponta\n",
        "numeros_sort = sorted(numeros)\n",
        "numeros_aparados_10 = np.array(numeros_sort[500:4501]) # 500 elementos cada ponta\n",
        "\n",
        "# média aparada 10%\n",
        "media_aparada = numeros_aparados_10.mean()\n",
        "print(media_aparada)"
      ]
    },
    {
      "cell_type": "markdown",
      "source": [
        "> Uma média aparada elimina influência de extremos, como por exemplo Carnaval, onde os a nota por cada quesito é a média aparada de cinco notas, onde há o descarte da menor e da maior.\n",
        "\n",
        "> Menciono também a **média ponderada**, onde é atribuido um peso $w_i$ para cada valor dado de $x_i$ dividindo pela somatória de todos os pesos.</br>\n",
        "Média ponderada = $\\textbf{x}_w$ = $\\frac{Σ_{i=1}^{n}w_ix_i}{Σ_{i}^{n}w_i}$"
      ],
      "metadata": {
        "id": "C5yyft7bjT5x"
      },
      "id": "C5yyft7bjT5x"
    },
    {
      "cell_type": "markdown",
      "source": [
        "## Mediana e Estimativas Robustas\n",
        "\n",
        "**Mediana** - número central numa lista de números ordenados (classificados), usa apenas os dados centrais para encontrar uma `média`. Ideal quando se quer desconsiderar os outliers.\n",
        "\n",
        "**Outliers** - qualquer valor que seja muito distante dos outros valores em um conjunto de dados. Ser um outlier não torna um valor de dado inválido ou errado."
      ],
      "metadata": {
        "id": "wWwunmu0lcLg"
      },
      "id": "wWwunmu0lcLg"
    },
    {
      "cell_type": "code",
      "execution_count": 9,
      "id": "c0b62db8",
      "metadata": {
        "id": "c0b62db8"
      },
      "outputs": [],
      "source": [
        "!wget -q 'https://raw.githubusercontent.com/gedeck/practical-statistics-for-data-scientists/master/data/state.csv' -O states.csv"
      ]
    },
    {
      "cell_type": "markdown",
      "source": [
        "Tabela mostra as primeiras linhas do conjunto de dados contendo população e as taxas de homicídio por 100 mil hab em cada estado."
      ],
      "metadata": {
        "id": "_Tcwvor9q-tE"
      },
      "id": "_Tcwvor9q-tE"
    },
    {
      "cell_type": "code",
      "source": [
        "import pandas as pd\n",
        "\n",
        "state = pd.read_csv('states.csv')\n",
        "state.rename(columns={'State': 'Estado', 'Population': 'População',\\\n",
        "                      'Murder.Rate': 'Taxa de Homicídio'},\\\n",
        "             inplace=True)\n",
        "state.iloc[:,:-1].head(5)"
      ],
      "metadata": {
        "colab": {
          "base_uri": "https://localhost:8080/",
          "height": 206
        },
        "id": "UfmT8FD1q6gq",
        "outputId": "d3eac990-3927-431d-d757-3f4f31d83f8f"
      },
      "id": "UfmT8FD1q6gq",
      "execution_count": 18,
      "outputs": [
        {
          "output_type": "execute_result",
          "data": {
            "text/plain": [
              "       Estado  População  Taxa de Homicídio\n",
              "0     Alabama    4779736                5.7\n",
              "1      Alaska     710231                5.6\n",
              "2     Arizona    6392017                4.7\n",
              "3    Arkansas    2915918                5.6\n",
              "4  California   37253956                4.4"
            ],
            "text/html": [
              "\n",
              "  <div id=\"df-0f9de292-d245-4b1a-bcb8-d74f385e134c\">\n",
              "    <div class=\"colab-df-container\">\n",
              "      <div>\n",
              "<style scoped>\n",
              "    .dataframe tbody tr th:only-of-type {\n",
              "        vertical-align: middle;\n",
              "    }\n",
              "\n",
              "    .dataframe tbody tr th {\n",
              "        vertical-align: top;\n",
              "    }\n",
              "\n",
              "    .dataframe thead th {\n",
              "        text-align: right;\n",
              "    }\n",
              "</style>\n",
              "<table border=\"1\" class=\"dataframe\">\n",
              "  <thead>\n",
              "    <tr style=\"text-align: right;\">\n",
              "      <th></th>\n",
              "      <th>Estado</th>\n",
              "      <th>População</th>\n",
              "      <th>Taxa de Homicídio</th>\n",
              "    </tr>\n",
              "  </thead>\n",
              "  <tbody>\n",
              "    <tr>\n",
              "      <th>0</th>\n",
              "      <td>Alabama</td>\n",
              "      <td>4779736</td>\n",
              "      <td>5.7</td>\n",
              "    </tr>\n",
              "    <tr>\n",
              "      <th>1</th>\n",
              "      <td>Alaska</td>\n",
              "      <td>710231</td>\n",
              "      <td>5.6</td>\n",
              "    </tr>\n",
              "    <tr>\n",
              "      <th>2</th>\n",
              "      <td>Arizona</td>\n",
              "      <td>6392017</td>\n",
              "      <td>4.7</td>\n",
              "    </tr>\n",
              "    <tr>\n",
              "      <th>3</th>\n",
              "      <td>Arkansas</td>\n",
              "      <td>2915918</td>\n",
              "      <td>5.6</td>\n",
              "    </tr>\n",
              "    <tr>\n",
              "      <th>4</th>\n",
              "      <td>California</td>\n",
              "      <td>37253956</td>\n",
              "      <td>4.4</td>\n",
              "    </tr>\n",
              "  </tbody>\n",
              "</table>\n",
              "</div>\n",
              "      <button class=\"colab-df-convert\" onclick=\"convertToInteractive('df-0f9de292-d245-4b1a-bcb8-d74f385e134c')\"\n",
              "              title=\"Convert this dataframe to an interactive table.\"\n",
              "              style=\"display:none;\">\n",
              "        \n",
              "  <svg xmlns=\"http://www.w3.org/2000/svg\" height=\"24px\"viewBox=\"0 0 24 24\"\n",
              "       width=\"24px\">\n",
              "    <path d=\"M0 0h24v24H0V0z\" fill=\"none\"/>\n",
              "    <path d=\"M18.56 5.44l.94 2.06.94-2.06 2.06-.94-2.06-.94-.94-2.06-.94 2.06-2.06.94zm-11 1L8.5 8.5l.94-2.06 2.06-.94-2.06-.94L8.5 2.5l-.94 2.06-2.06.94zm10 10l.94 2.06.94-2.06 2.06-.94-2.06-.94-.94-2.06-.94 2.06-2.06.94z\"/><path d=\"M17.41 7.96l-1.37-1.37c-.4-.4-.92-.59-1.43-.59-.52 0-1.04.2-1.43.59L10.3 9.45l-7.72 7.72c-.78.78-.78 2.05 0 2.83L4 21.41c.39.39.9.59 1.41.59.51 0 1.02-.2 1.41-.59l7.78-7.78 2.81-2.81c.8-.78.8-2.07 0-2.86zM5.41 20L4 18.59l7.72-7.72 1.47 1.35L5.41 20z\"/>\n",
              "  </svg>\n",
              "      </button>\n",
              "      \n",
              "  <style>\n",
              "    .colab-df-container {\n",
              "      display:flex;\n",
              "      flex-wrap:wrap;\n",
              "      gap: 12px;\n",
              "    }\n",
              "\n",
              "    .colab-df-convert {\n",
              "      background-color: #E8F0FE;\n",
              "      border: none;\n",
              "      border-radius: 50%;\n",
              "      cursor: pointer;\n",
              "      display: none;\n",
              "      fill: #1967D2;\n",
              "      height: 32px;\n",
              "      padding: 0 0 0 0;\n",
              "      width: 32px;\n",
              "    }\n",
              "\n",
              "    .colab-df-convert:hover {\n",
              "      background-color: #E2EBFA;\n",
              "      box-shadow: 0px 1px 2px rgba(60, 64, 67, 0.3), 0px 1px 3px 1px rgba(60, 64, 67, 0.15);\n",
              "      fill: #174EA6;\n",
              "    }\n",
              "\n",
              "    [theme=dark] .colab-df-convert {\n",
              "      background-color: #3B4455;\n",
              "      fill: #D2E3FC;\n",
              "    }\n",
              "\n",
              "    [theme=dark] .colab-df-convert:hover {\n",
              "      background-color: #434B5C;\n",
              "      box-shadow: 0px 1px 3px 1px rgba(0, 0, 0, 0.15);\n",
              "      filter: drop-shadow(0px 1px 2px rgba(0, 0, 0, 0.3));\n",
              "      fill: #FFFFFF;\n",
              "    }\n",
              "  </style>\n",
              "\n",
              "      <script>\n",
              "        const buttonEl =\n",
              "          document.querySelector('#df-0f9de292-d245-4b1a-bcb8-d74f385e134c button.colab-df-convert');\n",
              "        buttonEl.style.display =\n",
              "          google.colab.kernel.accessAllowed ? 'block' : 'none';\n",
              "\n",
              "        async function convertToInteractive(key) {\n",
              "          const element = document.querySelector('#df-0f9de292-d245-4b1a-bcb8-d74f385e134c');\n",
              "          const dataTable =\n",
              "            await google.colab.kernel.invokeFunction('convertToInteractive',\n",
              "                                                     [key], {});\n",
              "          if (!dataTable) return;\n",
              "\n",
              "          const docLinkHtml = 'Like what you see? Visit the ' +\n",
              "            '<a target=\"_blank\" href=https://colab.research.google.com/notebooks/data_table.ipynb>data table notebook</a>'\n",
              "            + ' to learn more about interactive tables.';\n",
              "          element.innerHTML = '';\n",
              "          dataTable['output_type'] = 'display_data';\n",
              "          await google.colab.output.renderOutput(dataTable, element);\n",
              "          const docLink = document.createElement('div');\n",
              "          docLink.innerHTML = docLinkHtml;\n",
              "          element.appendChild(docLink);\n",
              "        }\n",
              "      </script>\n",
              "    </div>\n",
              "  </div>\n",
              "  "
            ]
          },
          "metadata": {},
          "execution_count": 18
        }
      ]
    },
    {
      "cell_type": "code",
      "source": [
        "# Média \n",
        "media = state['População'].mean()\n",
        "media"
      ],
      "metadata": {
        "colab": {
          "base_uri": "https://localhost:8080/"
        },
        "id": "goITQYZYrWRX",
        "outputId": "0c64b595-b0bd-4930-f802-c8909c7a77f1"
      },
      "id": "goITQYZYrWRX",
      "execution_count": 19,
      "outputs": [
        {
          "output_type": "execute_result",
          "data": {
            "text/plain": [
              "6162876.3"
            ]
          },
          "metadata": {},
          "execution_count": 19
        }
      ]
    },
    {
      "cell_type": "code",
      "source": [
        ""
      ],
      "metadata": {
        "id": "nNSidQeZscga"
      },
      "id": "nNSidQeZscga",
      "execution_count": null,
      "outputs": []
    }
  ],
  "metadata": {
    "kernelspec": {
      "display_name": "Python 3 (ipykernel)",
      "language": "python",
      "name": "python3"
    },
    "language_info": {
      "codemirror_mode": {
        "name": "ipython",
        "version": 3
      },
      "file_extension": ".py",
      "mimetype": "text/x-python",
      "name": "python",
      "nbconvert_exporter": "python",
      "pygments_lexer": "ipython3",
      "version": "3.9.2"
    },
    "colab": {
      "name": "part01_analise_exploratoria_dados.ipynb",
      "provenance": [],
      "collapsed_sections": [],
      "include_colab_link": true
    }
  },
  "nbformat": 4,
  "nbformat_minor": 5
}