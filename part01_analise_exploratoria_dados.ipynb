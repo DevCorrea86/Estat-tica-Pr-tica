{
  "cells": [
    {
      "cell_type": "markdown",
      "metadata": {
        "id": "view-in-github",
        "colab_type": "text"
      },
      "source": [
        "<a href=\"https://colab.research.google.com/github/DevCorrea86/Estatistica-Pratica/blob/main/part01_analise_exploratoria_dados.ipynb\" target=\"_parent\"><img src=\"https://colab.research.google.com/assets/colab-badge.svg\" alt=\"Open In Colab\"/></a>"
      ]
    },
    {
      "cell_type": "markdown",
      "id": "d8a990f0",
      "metadata": {
        "id": "d8a990f0"
      },
      "source": [
        "# Capitulo 1 - Análise Exploratória de Dados"
      ]
    },
    {
      "cell_type": "markdown",
      "id": "9fe1477e",
      "metadata": {
        "id": "9fe1477e"
      },
      "source": [
        "## Elementos de Dados Estruturados\n",
        "\n",
        "**Contínuos** - Dados que podem assumir qualquer valor em um intervalo\n",
        "\n",
        "**Discretos** - Dados que podem assumir apenas valores inteiros, como contagens.\n",
        "\n",
        "**Categóricos** - Dados que podem assumir apenas um conjunto específico de valores representando um conjunto de possíveis categorias.\n",
        "\n",
        "**Binários** - Um caso especial de dados categóricos com apenas duas categorias de valores (0/1, True/False)\n",
        "\n",
        "**Ordinais** - Dados categórico que tem uma ordem explícita."
      ]
    },
    {
      "cell_type": "markdown",
      "id": "a12773d7",
      "metadata": {
        "id": "a12773d7"
      },
      "source": [
        "## Dados Retangulares\n",
        "\n",
        "**Quadro de dados** - Os dados retangulares são as estruturas básicas de dados para modelos estatísticos e aprendizado de máquina.\n",
        "\n",
        "**Características** - Um conjunto na tabela costuma ser chamada de caracteristicas.\n",
        "\n",
        "**Registros** - Uma linha na tabela costuma ser chamada de registro."
      ]
    },
    {
      "cell_type": "markdown",
      "id": "ee1ef0a9",
      "metadata": {
        "id": "ee1ef0a9"
      },
      "source": [
        "## Estimativas de Localização\n",
        "\n",
        "**Média** - Soma de todos valores dividido pelo número de valores\n",
        "\n",
        "**Média ponderada** - A soma de todos os valores, multilicada por um peso e dividida pela soma dos pesos.\n",
        "\n",
        "**Mediana** - O valor que ocupa a posição central dos dados.\n",
        "\n",
        "**Mediana ponderada** - Valor cuja posição está no centro da soma dos pesos, estando na metade da soma antes e metade depois desse dado.\n",
        "\n",
        "**Média aparada** - A média de todos os valores depois da excluso de um número fixo de valores extremos.\n",
        "\n",
        "**Robusto** - Não sensível a valores extremos\n",
        "\n",
        "**Outlier** - Valor de dados que é muito diferente da maioria dos dados."
      ]
    },
    {
      "cell_type": "code",
      "execution_count": null,
      "id": "1d043bc4",
      "metadata": {
        "id": "1d043bc4"
      },
      "outputs": [],
      "source": [
        "import numpy as np # biblioteca cáculos numéricos\n",
        "import random as rd \n",
        "import matplotlib.pyplot as plt\n",
        "\n",
        "from random import randint # geração de numeros pseudo_aleatórios"
      ]
    },
    {
      "cell_type": "markdown",
      "id": "18e4f8fc",
      "metadata": {
        "id": "18e4f8fc"
      },
      "source": [
        "## Média"
      ]
    },
    {
      "cell_type": "code",
      "execution_count": null,
      "id": "5c07a904",
      "metadata": {
        "id": "5c07a904"
      },
      "outputs": [],
      "source": [
        "rd.seed(1986)\n",
        "\n",
        "numeros = []\n",
        "n = 0\n",
        "while n < 5000:\n",
        "    numeros.append(round(randint(1, 750)*rd.random()))\n",
        "    n += 1"
      ]
    },
    {
      "cell_type": "markdown",
      "id": "3b3af369",
      "metadata": {
        "id": "3b3af369"
      },
      "source": [
        "**Lista números contem 1000 números pseudo-aleatórios entre 1 e 500**"
      ]
    },
    {
      "cell_type": "code",
      "execution_count": null,
      "id": "b022766e",
      "metadata": {
        "id": "b022766e",
        "outputId": "adb57d59-8474-41da-adc0-f5f641cf74b0"
      },
      "outputs": [
        {
          "data": {
            "text/plain": [
              "186.5878"
            ]
          },
          "execution_count": 12,
          "metadata": {},
          "output_type": "execute_result"
        }
      ],
      "source": [
        "# média\n",
        "np.mean(numeros)"
      ]
    },
    {
      "cell_type": "code",
      "execution_count": null,
      "id": "95a730ed",
      "metadata": {
        "id": "95a730ed",
        "outputId": "142fc1c3-2a70-4c15-b515-568781d47be6"
      },
      "outputs": [
        {
          "ename": "NameError",
          "evalue": "name 'trim_mean' is not defined",
          "output_type": "error",
          "traceback": [
            "\u001b[0;31m---------------------------------------------------------------------------\u001b[0m",
            "\u001b[0;31mNameError\u001b[0m                                 Traceback (most recent call last)",
            "Input \u001b[0;32mIn [8]\u001b[0m, in \u001b[0;36m<cell line: 3>\u001b[0;34m()\u001b[0m\n\u001b[1;32m      1\u001b[0m \u001b[38;5;66;03m# média aparada 10%\u001b[39;00m\n\u001b[0;32m----> 3\u001b[0m \u001b[43mtrim_mean\u001b[49m(numeros, \u001b[38;5;241m0.1\u001b[39m)\n",
            "\u001b[0;31mNameError\u001b[0m: name 'trim_mean' is not defined"
          ]
        }
      ],
      "source": [
        "# média aparada 10%\n",
        "\n",
        "trim_mean(numeros, 0.1)"
      ]
    },
    {
      "cell_type": "code",
      "execution_count": null,
      "id": "c0b62db8",
      "metadata": {
        "id": "c0b62db8"
      },
      "outputs": [],
      "source": [
        ""
      ]
    }
  ],
  "metadata": {
    "kernelspec": {
      "display_name": "Python 3 (ipykernel)",
      "language": "python",
      "name": "python3"
    },
    "language_info": {
      "codemirror_mode": {
        "name": "ipython",
        "version": 3
      },
      "file_extension": ".py",
      "mimetype": "text/x-python",
      "name": "python",
      "nbconvert_exporter": "python",
      "pygments_lexer": "ipython3",
      "version": "3.9.2"
    },
    "colab": {
      "name": "part01_analise_exploratoria_dados.ipynb",
      "provenance": [],
      "collapsed_sections": [],
      "include_colab_link": true
    }
  },
  "nbformat": 4,
  "nbformat_minor": 5
}